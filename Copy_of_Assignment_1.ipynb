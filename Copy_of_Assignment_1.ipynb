{
  "nbformat": 4,
  "nbformat_minor": 0,
  "metadata": {
    "colab": {
      "provenance": [],
      "toc_visible": true,
      "include_colab_link": true
    },
    "kernelspec": {
      "name": "python3",
      "display_name": "Python 3"
    },
    "language_info": {
      "name": "python"
    }
  },
  "cells": [
    {
      "cell_type": "markdown",
      "metadata": {
        "id": "view-in-github",
        "colab_type": "text"
      },
      "source": [
        "<a href=\"https://colab.research.google.com/github/Shwetabh93/Computer-Vision-Assignments/blob/main/Copy_of_Assignment_1.ipynb\" target=\"_parent\"><img src=\"https://colab.research.google.com/assets/colab-badge.svg\" alt=\"Open In Colab\"/></a>"
      ]
    },
    {
      "cell_type": "markdown",
      "source": [
        "<center>\n",
        "<h1><strong> Computer Vision assignment </strong></h1>\n",
        "</center>"
      ],
      "metadata": {
        "id": "5gnVmnCuRVO6"
      }
    },
    {
      "cell_type": "markdown",
      "source": [
        "**This assignment will challenge your understanding of basic python programming paradigm and evaluate your intution of problem solving**\n",
        "\n",
        "- Make sure all the implementations are general and should work for any test case that we use\n",
        "\n",
        "\n"
      ],
      "metadata": {
        "id": "0zSwRgknRiQu"
      }
    },
    {
      "cell_type": "markdown",
      "source": [
        "## **Instructions :**"
      ],
      "metadata": {
        "id": "IRUoYr2u2Eeg"
      }
    },
    {
      "cell_type": "markdown",
      "source": [
        "\n",
        "- Make a copy of this Colab notebook (else any changes you make wont be saved)\n",
        "- Feel free to add more code blocks in between questions if you feel you need it\n"
      ],
      "metadata": {
        "id": "si5j_ygayB6p"
      }
    },
    {
      "cell_type": "markdown",
      "source": [
        "---\n",
        "## **Part 1: Python**"
      ],
      "metadata": {
        "id": "Zi29DVxm2Wek"
      }
    },
    {
      "cell_type": "markdown",
      "source": [
        "\n",
        "\n",
        "#### `Q1) Check if a given string is a palindrome`"
      ],
      "metadata": {
        "id": "PEUy0L1abA7z"
      }
    },
    {
      "cell_type": "code",
      "source": [
        "def check_palindrome(s):\n",
        "  return s[::-1]\n",
        "x=input()\n",
        "if x==check_palindrome(x):\n",
        "  print(\"yes\")\n",
        "else:\n",
        "  print(\"no\")\n",
        "#write your code here\n"
      ],
      "metadata": {
        "id": "d2TGFIWM7w8Y",
        "outputId": "18b91a76-909e-490b-ead6-abd461e9e1cc",
        "colab": {
          "base_uri": "https://localhost:8080/"
        }
      },
      "execution_count": null,
      "outputs": [
        {
          "output_type": "stream",
          "name": "stdout",
          "text": [
            "malayalam\n",
            "yes\n"
          ]
        }
      ]
    },
    {
      "cell_type": "markdown",
      "source": [
        "#### `Q2) Write a program to check if the two input strings are an anagram of eachother or not ` "
      ],
      "metadata": {
        "id": "zbU37-UUbWsU"
      }
    },
    {
      "cell_type": "code",
      "source": [
        "x,y=input().split()\n",
        "#write your code here\n",
        "x=list(x)\n",
        "y=list(y)\n",
        "x.sort()\n",
        "y.sort()\n",
        "if (x==y):\n",
        "  print(\"yes\")\n",
        "else:\n",
        "  print(\"no\")"
      ],
      "metadata": {
        "id": "XRXZVbNjbUZ5",
        "colab": {
          "base_uri": "https://localhost:8080/"
        },
        "outputId": "3ef2dbde-66b1-47d6-ec06-122435e0d612"
      },
      "execution_count": 23,
      "outputs": [
        {
          "output_type": "stream",
          "name": "stdout",
          "text": [
            "intl abcd\n",
            "no\n"
          ]
        }
      ]
    },
    {
      "cell_type": "markdown",
      "source": [
        "#### `Q3) print all the duplicate letters in the string \"Electronics and Robotics club\"`"
      ],
      "metadata": {
        "id": "wpUP6XANbXh4"
      }
    },
    {
      "cell_type": "code",
      "source": [
        "#write your code here\n",
        "def find_char(input):\n",
        "\tx=[]\n",
        "\tfor i in input:\n",
        "\t\tif i not in x and input.count(i)>1:\n",
        "\t\t\tx.append(i)\n",
        "\tprint(\" \".join(x))\n",
        "\n",
        "s = \"Electronics and Robotics Club\"\n",
        "find_char(s)\n",
        "\n",
        "  \n",
        "\n"
      ],
      "metadata": {
        "id": "xsDdleNzbVI-",
        "outputId": "bb228c42-6002-451b-84e3-04a72a1dce27",
        "colab": {
          "base_uri": "https://localhost:8080/"
        }
      },
      "execution_count": 14,
      "outputs": [
        {
          "output_type": "stream",
          "name": "stdout",
          "text": [
            "l c t o n i s   b\n"
          ]
        }
      ]
    },
    {
      "cell_type": "markdown",
      "source": [
        "#### `Q4) Given below is a list of dictionaries, create a new sorted list containing unique values from the dictionary elements.`\n",
        "\n",
        "> <em>dictionary_syntax = {key : value}</em>\n",
        "\n",
        "> <em>Essentially, create a unique list of all the values</em>"
      ],
      "metadata": {
        "id": "2yeBy0QCbbeE"
      }
    },
    {
      "cell_type": "code",
      "source": [
        "#Implement your solution on the given list of dictionaries, assume that this is a dummy test case - however your solution should work for all lists of dictionaries\n",
        "my_list=[\n",
        "     {\"first\":\"1\"}, \n",
        "     {\"second\": \"2\"}, \n",
        "     {\"third\": \"1\"}, \n",
        "     {\"four\": \"5\"}, \n",
        "     {\"five\":\"5\"}, \n",
        "     {\"six\":\"9\"},\n",
        "     {\"seven\":\"7\"}\n",
        "    ]\n",
        "# write your code here\n",
        "l1=[]\n",
        "res=[]\n",
        "for i in my_list:\n",
        "  l1.extend(i.values())\n",
        "for j in l1:\n",
        "  if j not in res:\n",
        "    res.append(j)\n",
        "res.sort()\n",
        "print(res)\n",
        "#for i in my_list:\n",
        "#expected solution [1,2,5,7,9]"
      ],
      "metadata": {
        "id": "H-JbYS7GbaMW",
        "colab": {
          "base_uri": "https://localhost:8080/"
        },
        "outputId": "47bd24f9-fc57-475f-c5f7-fdba2df7fa99"
      },
      "execution_count": 13,
      "outputs": [
        {
          "output_type": "stream",
          "name": "stdout",
          "text": [
            "['1', '2', '5', '7', '9']\n"
          ]
        }
      ]
    }
  ]
}